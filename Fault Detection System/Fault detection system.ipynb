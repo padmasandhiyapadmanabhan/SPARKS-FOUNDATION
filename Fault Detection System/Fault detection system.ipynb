{
 "cells": [
  {
   "cell_type": "markdown",
   "id": "71c95b84",
   "metadata": {},
   "source": [
    "# GRIP THE SPARK FOUNDATION\n",
    "# Fault Detection System(task 6)\n",
    "### Name: Padmasandhiya P"
   ]
  },
  {
   "cell_type": "markdown",
   "id": "0c26f5ab",
   "metadata": {},
   "source": [
    "#### 1- Importing libraries and defining constants"
   ]
  },
  {
   "cell_type": "code",
   "execution_count": 23,
   "id": "491b7098",
   "metadata": {},
   "outputs": [],
   "source": [
    "import os\n",
    "import cv2          \n",
    "import numpy as np\n",
    "from PIL import Image\n",
    "import glob\n",
    "import matplotlib.pyplot as plt\n",
    "\n",
    "DEBUG_MODE = 1\n",
    "IMAGE_SIZE = (500, 500)\n",
    "\n",
    "THRESHOLD_VALUE = 110 ##Threshold Details##\n",
    "MAX_VALUE = 255\n",
    "\n",
    "INV_THRESHOLD_VALUE = 50 ##Invert Threshold Details##\n",
    "INV_MAX_VALUE = 255\n",
    "THRESHOLD1 = 100\n",
    "THRESHOLD2 = 70\n",
    "\n",
    "CON_COLOR = (0, 0, 255)\n",
    "\n",
    "CON_THICKNESS = 1\n",
    "WHITE = (255, 255, 255)\n",
    "BLACK = (0, 0, 0)\n",
    "GREEN = (0, 255, 0)\n",
    "RED = (0, 0, 255)\n",
    "STACK_IMG_SIZE = (200, 200)"
   ]
  },
  {
   "cell_type": "markdown",
   "id": "344528ec",
   "metadata": {},
   "source": [
    "#### 2- Loading input images"
   ]
  },
  {
   "cell_type": "code",
   "execution_count": 24,
   "id": "7871867a",
   "metadata": {},
   "outputs": [
    {
     "name": "stdout",
     "output_type": "stream",
     "text": [
      "======================================\n",
      "=         TEST Images           =\n",
      "======================================\n",
      "-> Test image 1.jpg\t -> Test image 2.jpg\t -> Test image 3.jpg\t -> Test image 4.jpg\t \n",
      "\n",
      "-> Test image 5.jpg\t -> Test image 6.jpg\t -> Test image 7.jpg\t \n",
      "\n",
      "-> Test image 8.jpeg\t -> Test image 9.jpeg\t \n",
      "======================================\n"
     ]
    }
   ],
   "source": [
    "files = os.listdir('Test images')\n",
    "if DEBUG_MODE:\n",
    "    print(\"======================================\")\n",
    "    print(\"=         TEST Images           =\")\n",
    "    print(\"======================================\")\n",
    "    for i in files:\n",
    "        print('-> {}\\t '.format(i), end='')\n",
    "        if files.index(i) % 3 == 0 and files.index(i) != 0:\n",
    "            print('\\n')\n",
    "    print(\"\\n======================================\")"
   ]
  },
  {
   "cell_type": "markdown",
   "id": "bce55b8f",
   "metadata": {},
   "source": [
    "#### 3- Applying Canny Edges filter to the input images to detect faults "
   ]
  },
  {
   "cell_type": "code",
   "execution_count": null,
   "id": "65d19bc3",
   "metadata": {},
   "outputs": [
    {
     "name": "stdout",
     "output_type": "stream",
     "text": [
      "Number of Contours found = 4\n",
      "======================================\n",
      "=       ERRORS DETECTED            =\n",
      "======================================\n",
      "\n",
      "\n",
      "Number of Contours found = 6\n",
      "======================================\n",
      "=       ERRORS DETECTED            =\n",
      "======================================\n",
      "\n",
      "\n"
     ]
    }
   ],
   "source": [
    "for file in files:\n",
    "    PATH = 'Test images/' + file\n",
    "    # Image Path\n",
    "    imageOri = cv2.imread(PATH)\n",
    "\n",
    "    try:\n",
    "        # converts to grayscale\n",
    "        image = cv2.cvtColor(imageOri, cv2.COLOR_BGR2GRAY)\n",
    "    except:\n",
    "        print(\"Invalid Input! Please select correct file(ex: 'imgSample.jpg')\")\n",
    "    else:\n",
    "        # resize image\n",
    "        image = cv2.resize(image, IMAGE_SIZE)\n",
    "        imageOri = cv2.resize(imageOri, IMAGE_SIZE)\n",
    "\n",
    "        ret, thresh_basic = cv2.threshold(image, THRESHOLD_VALUE, MAX_VALUE, cv2.THRESH_BINARY)\n",
    "        \n",
    "        kernel = np.ones((5, 5), np.uint8)\n",
    "\n",
    "        img_erosion = cv2.erode(thresh_basic, kernel, iterations=1)\n",
    "\n",
    "       \n",
    "        ret, thresh_inv = cv2.threshold(img_erosion, INV_THRESHOLD_VALUE, INV_MAX_VALUE, cv2.THRESH_BINARY_INV)\n",
    "\n",
    "       \n",
    "        edged = cv2.Canny(img_erosion, THRESHOLD1, THRESHOLD2)\n",
    "       \n",
    "        contours, hierarchy = cv2.findContours(thresh_inv, cv2.RETR_EXTERNAL, cv2.CHAIN_APPROX_NONE)\n",
    "\n",
    "        font = cv2.FONT_HERSHEY_SIMPLEX\n",
    "\n",
    "        imageRz = cv2.resize(image, STACK_IMG_SIZE)\n",
    "        thresh_basicRz = cv2.resize(thresh_basic, STACK_IMG_SIZE)\n",
    "        img_erosionRz = cv2.resize(img_erosion, STACK_IMG_SIZE)\n",
    "        thresh_invRz = cv2.resize(thresh_inv, STACK_IMG_SIZE)\n",
    "        edgedRz = cv2.resize(edged, STACK_IMG_SIZE)\n",
    "\n",
    "        imageRz = cv2.putText(imageRz, 'GrayScale', (5, 15), font, 0.5, WHITE, 1, cv2.LINE_AA)\n",
    "        thresh_basicRz = cv2.putText(thresh_basicRz, 'ThresholdBasic', (5, 15), font,\n",
    "                                     0.5, WHITE, 1,cv2.LINE_AA)\n",
    "        img_erosionRz = cv2.putText(img_erosionRz, 'Morphology-Erosion', (5, 15), font,\n",
    "                                    0.5, WHITE, 1, cv2.LINE_AA)\n",
    "        thresh_invRz = cv2.putText(thresh_invRz, 'Threshold-mode INV', (5, 15), font,\n",
    "                                   0.5, BLACK, 1, cv2.LINE_AA)\n",
    "        edgedRz = cv2.putText(edgedRz, 'Canny Edges', (5, 15), font, 0.5, WHITE, 1, cv2.LINE_AA)\n",
    "\n",
    "        numpy_horizontal_concat = np.concatenate((imageRz, thresh_basicRz, img_erosionRz,\n",
    "                                                  thresh_invRz, edgedRz), axis=1)\n",
    "\n",
    "        cv2.imshow('Filtering...', numpy_horizontal_concat)\n",
    "\n",
    "        \n",
    "        num_of_con = str(len(contours) - 1)\n",
    "        if DEBUG_MODE:\n",
    "            print(\"Number of Contours found = \" + num_of_con)\n",
    "            if len(contours) > 1:\n",
    "                print('======================================')\n",
    "                print('=       ERRORS DETECTED            =')\n",
    "                print('======================================\\n\\n')\n",
    "\n",
    "        # show original img\n",
    "        cv2.imshow('Original Image', imageOri)\n",
    "        # draw contours on original img\n",
    "        if int(num_of_con) != 0:\n",
    "            for i in range(int(num_of_con)):\n",
    "                highlighted_img = cv2.drawContours(imageOri, contours, i, CON_COLOR, CON_THICKNESS)\n",
    "\n",
    "            highlighted_img = cv2.putText(highlighted_img, 'Approximately {} defect(s) detected'.\n",
    "                                          format(num_of_con), (5, 15),\n",
    "                                          font, 0.5, GREEN, 1, cv2.LINE_AA)\n",
    "        else:\n",
    "            highlighted_img = cv2.putText(imageOri, 'Unable to detect defects!',\n",
    "                                          (5, 15), font, 0.5, RED, 2, cv2.LINE_AA)\n",
    "\n",
    "        # show markings highlighted img\n",
    "        cv2.imshow('Highlighted Defect', highlighted_img)\n",
    "        # save image containing highlighted defect\n",
    "        cv2.imwrite('Output Images/{}_DEFECTS_HIGHLIGHTED.jpg'.format(file.split('.')[0]), highlighted_img)\n",
    "        cv2.waitKey(0)\n",
    "        cv2.destroyAllWindows()"
   ]
  }
 ],
 "metadata": {
  "kernelspec": {
   "display_name": "Python 3 (ipykernel)",
   "language": "python",
   "name": "python3"
  },
  "language_info": {
   "codemirror_mode": {
    "name": "ipython",
    "version": 3
   },
   "file_extension": ".py",
   "mimetype": "text/x-python",
   "name": "python",
   "nbconvert_exporter": "python",
   "pygments_lexer": "ipython3",
   "version": "3.9.12"
  }
 },
 "nbformat": 4,
 "nbformat_minor": 5
}
