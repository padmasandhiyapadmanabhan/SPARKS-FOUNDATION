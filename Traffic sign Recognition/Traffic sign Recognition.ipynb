{
 "cells": [
  {
   "cell_type": "markdown",
   "metadata": {},
   "source": [
    "# GRIP The Spark Foundation (Task 5)"
   ]
  },
  {
   "cell_type": "markdown",
   "metadata": {},
   "source": [
    "# Traffic Sign Recognition"
   ]
  },
  {
   "cell_type": "markdown",
   "metadata": {},
   "source": [
    "# NAME:Padmasandhiya P"
   ]
  },
  {
   "cell_type": "code",
   "execution_count": 3,
   "metadata": {},
   "outputs": [],
   "source": [
    "import matplotlib.pyplot as plt\n",
    "import numpy as np\n",
    "import tensorflow as tf\n",
    "import pandas as pd\n",
    "import seaborn as sns\n",
    "import pickle\n",
    "import random\n",
    "import os\n",
    "from tensorflow import keras \n",
    "import matplotlib.image as mpimg\n",
    "import cv2,random\n",
    "from PIL import Image"
   ]
  },
  {
   "cell_type": "code",
   "execution_count": 4,
   "metadata": {},
   "outputs": [],
   "source": [
    "path = \"C:/Users/ranbir/Traffic Sign Data/Train\"\n",
    "\n",
    "NUM_CATEGORIES = len(os.listdir(path))\n",
    "img_data = []\n",
    "img_names = []\n",
    "for i in range(len(os.listdir(path))):\n",
    "    main = os.path.join(path,str(i))\n",
    "    imagefile_names = os.listdir(main)\n",
    "    for j in imagefile_names:\n",
    "        img = cv2.imread(main + '/' + j,cv2.IMREAD_UNCHANGED)\n",
    "        if img is None:\n",
    "            break\n",
    "        else:\n",
    "            img = cv2.resize(img,(30,30),interpolation = cv2.INTER_NEAREST)\n",
    "            img = np.array(img)\n",
    "            img_data.append(img)\n",
    "            img_names.append(i)\n",
    "im_data = np.array(img_data)\n",
    "im_label = np.array(img_names)"
   ]
  },
  {
   "cell_type": "code",
   "execution_count": 5,
   "metadata": {},
   "outputs": [
    {
     "name": "stdout",
     "output_type": "stream",
     "text": [
      "(33327, 43)\n",
      "(5882, 43)\n"
     ]
    }
   ],
   "source": [
    "from sklearn.model_selection import train_test_split\n",
    "x_train,x_test,y_train,y_test = train_test_split(im_data,im_label,test_size = 0.15,random_state = 155)\n",
    "\n",
    "x_train = x_train/255\n",
    "x_test = x_test/255\n",
    "\n",
    "y_train = keras.utils.to_categorical(y_train)\n",
    "y_test = keras.utils.to_categorical(y_test)\n",
    "\n",
    "print(y_train.shape)\n",
    "print(y_test.shape)"
   ]
  },
  {
   "cell_type": "code",
   "execution_count": 6,
   "metadata": {},
   "outputs": [],
   "source": [
    "from tensorflow.keras.layers import Conv2D, MaxPooling2D, BatchNormalization ,MaxPool2D\n",
    "from tensorflow.keras.layers import Dropout, Flatten, Input, Dense\n",
    "from tensorflow.keras.models import Sequential, load_model"
   ]
  },
  {
   "cell_type": "code",
   "execution_count": 27,
   "metadata": {},
   "outputs": [],
   "source": [
    "def create():\n",
    "    def add_conv_block(model , num_filters):\n",
    "        model.add(Conv2D(num_filters , 3 , activation = 'relu' , padding  = 'same'))\n",
    "        model.add(BatchNormalization())\n",
    "        model.add(Conv2D(num_filters , 3 , activation = 'relu'))\n",
    "        model.add(MaxPooling2D(pool_size = 2))\n",
    "        model.add(Dropout(0.2))\n",
    "        return model\n",
    "    \n",
    "    model = tf.keras.models.Sequential()\n",
    "    model.add(Input(shape = (30,30,3)))\n",
    "    \n",
    "    model = add_conv_block(model ,32)\n",
    "    model = add_conv_block(model , 64)\n",
    "    model = add_conv_block(model , 128)\n",
    "    model.add(Flatten())\n",
    "    model.add(Dense(43 , activation = 'softmax'))\n",
    "    model.compile(\n",
    "    loss = 'categorical_crossentropy' , \n",
    "    optimizer = 'adam' , metrics = [\"accuracy\"]\n",
    "    )\n",
    "    return model"
   ]
  },
  {
   "cell_type": "code",
   "execution_count": 28,
   "metadata": {},
   "outputs": [
    {
     "name": "stdout",
     "output_type": "stream",
     "text": [
      "Model: \"sequential_4\"\n",
      "_________________________________________________________________\n",
      "Layer (type)                 Output Shape              Param #   \n",
      "=================================================================\n",
      "conv2d_24 (Conv2D)           (None, 30, 30, 32)        896       \n",
      "_________________________________________________________________\n",
      "batch_normalization_12 (Batc (None, 30, 30, 32)        128       \n",
      "_________________________________________________________________\n",
      "conv2d_25 (Conv2D)           (None, 28, 28, 32)        9248      \n",
      "_________________________________________________________________\n",
      "max_pooling2d_12 (MaxPooling (None, 14, 14, 32)        0         \n",
      "_________________________________________________________________\n",
      "dropout_12 (Dropout)         (None, 14, 14, 32)        0         \n",
      "_________________________________________________________________\n",
      "conv2d_26 (Conv2D)           (None, 14, 14, 64)        18496     \n",
      "_________________________________________________________________\n",
      "batch_normalization_13 (Batc (None, 14, 14, 64)        256       \n",
      "_________________________________________________________________\n",
      "conv2d_27 (Conv2D)           (None, 12, 12, 64)        36928     \n",
      "_________________________________________________________________\n",
      "max_pooling2d_13 (MaxPooling (None, 6, 6, 64)          0         \n",
      "_________________________________________________________________\n",
      "dropout_13 (Dropout)         (None, 6, 6, 64)          0         \n",
      "_________________________________________________________________\n",
      "conv2d_28 (Conv2D)           (None, 6, 6, 128)         73856     \n",
      "_________________________________________________________________\n",
      "batch_normalization_14 (Batc (None, 6, 6, 128)         512       \n",
      "_________________________________________________________________\n",
      "conv2d_29 (Conv2D)           (None, 4, 4, 128)         147584    \n",
      "_________________________________________________________________\n",
      "max_pooling2d_14 (MaxPooling (None, 2, 2, 128)         0         \n",
      "_________________________________________________________________\n",
      "dropout_14 (Dropout)         (None, 2, 2, 128)         0         \n",
      "_________________________________________________________________\n",
      "flatten_4 (Flatten)          (None, 512)               0         \n",
      "_________________________________________________________________\n",
      "dense_4 (Dense)              (None, 43)                22059     \n",
      "=================================================================\n",
      "Total params: 309,963\n",
      "Trainable params: 309,515\n",
      "Non-trainable params: 448\n",
      "_________________________________________________________________\n"
     ]
    }
   ],
   "source": [
    "model = create()\n",
    "model.summary()"
   ]
  },
  {
   "cell_type": "code",
   "execution_count": 29,
   "metadata": {},
   "outputs": [],
   "source": [
    "from tensorflow.keras.preprocessing.image import ImageDataGenerator\n",
    "\n",
    "aug = ImageDataGenerator(\n",
    "    rotation_range=10,\n",
    "    zoom_range=0.15,\n",
    "    width_shift_range=0.1,\n",
    "    height_shift_range=0.1,\n",
    "    shear_range=0.15,\n",
    "    horizontal_flip=False,\n",
    "    vertical_flip=False,\n",
    "    fill_mode=\"nearest\")"
   ]
  },
  {
   "cell_type": "code",
   "execution_count": 63,
   "metadata": {},
   "outputs": [
    {
     "name": "stdout",
     "output_type": "stream",
     "text": [
      "Train for 776 steps, validate on 5882 samples\n",
      "Epoch 1/10\n",
      "776/776 [==============================] - 154s 198ms/step - loss: 0.1200 - accuracy: 0.9601 - val_loss: 0.1507 - val_accuracy: 0.9600\n",
      "Epoch 2/10\n",
      "776/776 [==============================] - 155s 200ms/step - loss: 0.1134 - accuracy: 0.9653 - val_loss: 0.0324 - val_accuracy: 0.9898\n",
      "Epoch 3/10\n",
      "776/776 [==============================] - 154s 198ms/step - loss: 0.0835 - accuracy: 0.9737 - val_loss: 0.0535 - val_accuracy: 0.9838\n",
      "Epoch 4/10\n",
      "776/776 [==============================] - 156s 201ms/step - loss: 0.0764 - accuracy: 0.9756 - val_loss: 0.0390 - val_accuracy: 0.9874\n",
      "Epoch 5/10\n",
      "776/776 [==============================] - 160s 206ms/step - loss: 0.0741 - accuracy: 0.9784 - val_loss: 0.0437 - val_accuracy: 0.9866\n",
      "Epoch 6/10\n",
      "776/776 [==============================] - 158s 204ms/step - loss: 0.0703 - accuracy: 0.9780 - val_loss: 0.0441 - val_accuracy: 0.9886\n",
      "Epoch 7/10\n",
      "776/776 [==============================] - 156s 201ms/step - loss: 0.0782 - accuracy: 0.9770 - val_loss: 0.0242 - val_accuracy: 0.9929\n",
      "Epoch 8/10\n",
      "776/776 [==============================] - 156s 201ms/step - loss: 0.0603 - accuracy: 0.9813 - val_loss: 0.0247 - val_accuracy: 0.9925\n",
      "Epoch 9/10\n",
      "776/776 [==============================] - 156s 201ms/step - loss: 0.0573 - accuracy: 0.9822 - val_loss: 0.0309 - val_accuracy: 0.9915\n",
      "Epoch 10/10\n",
      "776/776 [==============================] - 160s 206ms/step - loss: 0.0569 - accuracy: 0.9831 - val_loss: 0.0181 - val_accuracy: 0.9949\n"
     ]
    }
   ],
   "source": [
    "batch_size = 43\n",
    "epochs = 10\n",
    "\n",
    "history = model.fit(aug.flow(x_train,y_train,batch_size=batch_size),\n",
    "                    epochs=epochs, validation_data=(x_test, y_test))"
   ]
  },
  {
   "cell_type": "code",
   "execution_count": 73,
   "metadata": {},
   "outputs": [
    {
     "data": {
      "image/png": "[encoded data removed]",
      "text/plain": [
       "<Figure size 432x288 with 1 Axes>"
      ]
     },
     "metadata": {
      "needs_background": "light"
     },
     "output_type": "display_data"
    }
   ],
   "source": [
    "loss_t = history.history['loss']\n",
    "loss_val =  history.history['val_loss']\n",
    "epochs = range(10)\n",
    "plt.plot(epochs,loss_t,'r',label = \"Training Loss\")\n",
    "plt.plot(epochs,loss_val,'b',label = \"Validation Loss\")\n",
    "plt.title('Training and Validation Loss')\n",
    "plt.xlabel('Epochs')\n",
    "plt.ylabel('Losses')\n",
    "plt.legend()\n",
    "plt.show()"
   ]
  },
  {
   "cell_type": "code",
   "execution_count": null,
   "metadata": {},
   "outputs": [],
   "source": [
    "history.score"
   ]
  },
  {
   "cell_type": "code",
   "execution_count": 10,
   "metadata": {},
   "outputs": [
    {
     "name": "stdout",
     "output_type": "stream",
     "text": [
      "WARNING:tensorflow:From C:\\Users\\ranbir\\anaconda3\\lib\\site-packages\\tensorflow_core\\python\\ops\\resource_variable_ops.py:1781: calling BaseResourceVariable.__init__ (from tensorflow.python.ops.resource_variable_ops) with constraint is deprecated and will be removed in a future version.\n",
      "Instructions for updating:\n",
      "If using Keras pass *_constraint arguments to layers.\n",
      "INFO:tensorflow:Assets written to: Traffic_CNN.model\\assets\n"
     ]
    }
   ],
   "source": [
    "model.save('Traffic_CNN.model')"
   ]
  },
  {
   "cell_type": "code",
   "execution_count": 7,
   "metadata": {},
   "outputs": [
    {
     "name": "stdout",
     "output_type": "stream",
     "text": [
      "[1.5722591e-04 1.3198091e-03 3.0413489e-03 1.6302332e-02 7.9140300e-03\n",
      " 5.2479874e-02 1.0994539e-03 3.6984533e-02 1.1644070e-02 2.7220414e-03\n",
      " 3.1027308e-02 1.3171823e-02 1.8545603e-02 4.1711326e-03 4.5685170e-04\n",
      " 1.3198159e-04 3.0592859e-03 2.1633083e-02 2.2859715e-02 1.8597530e-01\n",
      " 2.7245523e-02 8.3541453e-02 4.5368178e-03 3.0215457e-02 4.7255549e-04\n",
      " 3.4219027e-03 3.7033374e-03 4.7057041e-04 5.1471088e-03 3.6740201e-04\n",
      " 1.7480016e-01 5.4472391e-03 3.1845476e-03 8.1735998e-03 1.1680088e-02\n",
      " 1.6554052e-02 2.1035090e-02 6.6882116e-04 3.3243414e-02 2.5287099e-04\n",
      " 5.8936473e-02 1.0811524e-04 7.2096333e-02]\n"
     ]
    }
   ],
   "source": [
    "from tensorflow.keras.models import load_model\n",
    "model = load_model('Traffic_CNN.model')\n",
    "model = tf.keras.models.load_model('Traffic_CNN.model')\n",
    "preds = model.predict(x_test/255.)\n",
    "print(preds[1])"
   ]
  },
  {
   "cell_type": "code",
   "execution_count": 8,
   "metadata": {},
   "outputs": [],
   "source": [
    "from tensorflow.keras.models import load_model\n",
    "model = load_model('Traffic_CNN.model')\n",
    "\n",
    "def model_testing(test_file):\n",
    "    test_data = pd.read_csv(test_file)\n",
    "    class_id = test_data['ClassId'].values\n",
    "    path = test_data['Path'].values\n",
    "    image_file = []\n",
    "    for images in path:\n",
    "        img = Image.open(\"C:/Users/ranbir/Traffic Sign Data/\" + images)\n",
    "        img = img.resize((30,30))\n",
    "        img = np.array(img)\n",
    "        image_file.append(img)\n",
    "    image_file = np.array(image_file)\n",
    "    return image_file,class_id\n",
    "\n",
    "x_testing ,labels = model_testing(\"C:/Users/ranbir/Traffic Sign Data/Test.csv\")\n",
    "pred = model.predict_classes(x_testing/255.)\n",
    "prob_val = model.predict(x_testing/255.)"
   ]
  },
  {
   "cell_type": "code",
   "execution_count": 9,
   "metadata": {},
   "outputs": [
    {
     "data": {
      "text/plain": [
       "array([6.2838477e-13, 4.3803638e-08, 2.2349528e-10, 1.4619045e-13,\n",
       "       9.9299222e-11, 3.3427995e-07, 3.3341438e-10, 9.9999928e-01,\n",
       "       2.8259501e-07, 6.4015189e-13, 7.5366458e-10, 4.5008574e-15,\n",
       "       1.3364826e-13, 1.0259420e-15, 5.9006944e-14, 3.4308217e-13,\n",
       "       1.5307807e-09, 1.8733189e-11, 1.4093960e-16, 2.3687382e-15,\n",
       "       2.4080789e-15, 4.2147158e-16, 6.7361111e-20, 1.7508683e-14,\n",
       "       9.1393690e-17, 7.3469469e-15, 2.1641511e-17, 3.5802264e-19,\n",
       "       9.5106209e-17, 5.9398487e-16, 1.3952811e-13, 1.8266272e-12,\n",
       "       4.6998421e-18, 1.8444904e-11, 1.5743637e-11, 3.4827081e-14,\n",
       "       1.8254585e-14, 1.2305142e-13, 2.7885431e-12, 5.4707410e-12,\n",
       "       6.0363938e-08, 4.2377723e-15, 3.5412190e-10], dtype=float32)"
      ]
     },
     "execution_count": 9,
     "metadata": {},
     "output_type": "execute_result"
    }
   ],
   "source": [
    "pred[11]\n",
    "prob_val[11]"
   ]
  },
  {
   "cell_type": "code",
   "execution_count": 11,
   "metadata": {},
   "outputs": [
    {
     "name": "stdout",
     "output_type": "stream",
     "text": [
      "Enter the Image no : 17\n"
     ]
    },
    {
     "data": {
      "image/png": "[encoded data removed]",
      "text/plain": [
       "<Figure size 432x288 with 2 Axes>"
      ]
     },
     "metadata": {
      "needs_background": "light"
     },
     "output_type": "display_data"
    },
    {
     "name": "stdout",
     "output_type": "stream",
     "text": [
      "The given Traffic Sign is Dangerous curve to the right\n"
     ]
    },
    {
     "data": {
      "text/plain": [
       "'Dangerous curve to the right'"
      ]
     },
     "execution_count": 11,
     "metadata": {},
     "output_type": "execute_result"
    }
   ],
   "source": [
    "final_labels = [ 'Speed limit (20km/h)'\n",
    "    ,'Speed limit (30km/h)'\n",
    "    , 'Speed limit (50km/h)'\n",
    "    , 'Speed limit (60km/h)'\n",
    "    , 'Speed limit (70km/h)'\n",
    "    , 'Speed limit (80km/h)'\n",
    "    , 'End of speed limit (80km/h)'\n",
    "    , 'Speed limit (100km/h)'\n",
    "    , 'Speed limit (120km/h)'\n",
    "    , \"No passing\" \n",
    "    , 'No passing for vehicles over 3.5 metric tons'\n",
    "    , 'Right-of-way at the next intersection'\n",
    "    , 'Priority road'\n",
    "    ,'Yield'\n",
    "    , 'Stop' ,'No vehicles'\n",
    "    ,'Vehicles over 3.5 metric tons prohibited'\n",
    "    , 'No entry'\n",
    "    , 'General caution'\n",
    "    , 'Dangerous curve to the left'\n",
    "    , 'Dangerous curve to the right'\n",
    "    , 'Double curve'\n",
    "    , 'Bumpy road'\n",
    "    ,'Slippery road'\n",
    "    , 'Road narrows on the right'\n",
    "    , 'Road work'\n",
    "    , 'Traffic signals'\n",
    "    , 'Pedestrians'\n",
    "    , 'Children crossing'\n",
    "    , 'Bicycles crossing'\n",
    "    , 'Beware of ice/snow'\n",
    "    , 'Wild animals crossing'\n",
    "    , 'End of all speed and passing limits'\n",
    "    , 'Turn right ahead'\n",
    "    ,'Turn left ahead'\n",
    "    , 'Ahead only'\n",
    "    ,'Go straight or right'\n",
    "    , 'Go straight or left'\n",
    "    ,'Keep right'\n",
    "    , 'Keep left'\n",
    "    , 'Roundabout mandatory'\n",
    "    , 'End of no passing'\n",
    "    , 'End of no passing by vehicles over 3.5 metric tons']\n",
    "\n",
    "def array_index():\n",
    "    x = int(input(\"Enter the Image no : \"))\n",
    "    req_val = pred[x] \n",
    "    plt.figure()\n",
    "    plt.imshow(x_testing[x])\n",
    "    plt.colorbar()\n",
    "    plt.show()\n",
    "    print(\"The given Traffic Sign is\",final_labels[req_val])\n",
    "    return final_labels[req_val]\n",
    "\n",
    "            \n",
    "array_index()"
   ]
  }
 ],
 "metadata": {
  "kernelspec": {
   "display_name": "Python 3 (ipykernel)",
   "language": "python",
   "name": "python3"
  },
  "language_info": {
   "codemirror_mode": {
    "name": "ipython",
    "version": 3
   },
   "file_extension": ".py",
   "mimetype": "text/x-python",
   "name": "python",
   "nbconvert_exporter": "python",
   "pygments_lexer": "ipython3",
   "version": "3.9.12"
  }
 },
 "nbformat": 4,
 "nbformat_minor": 4
}
